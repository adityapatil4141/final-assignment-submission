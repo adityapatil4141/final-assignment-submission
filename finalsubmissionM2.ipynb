{
 "cells": [
  {
   "cell_type": "markdown",
   "id": "140c2e8b-00b3-4672-9c79-7eb695dc82b9",
   "metadata": {},
   "source": [
    "<h1>My Jupyter Notebook on IBM Watson Studio</h1>"
   ]
  },
  {
   "cell_type": "markdown",
   "id": "d5df4ff7-0b2e-438c-b22d-60dd5f5518b3",
   "metadata": {},
   "source": [
    "**Aditya Patil**\n",
    "My desired occupation is to become a data scientist, and to work on a model which can help in development of healthcare sector"
   ]
  },
  {
   "cell_type": "markdown",
   "id": "c1050145-ef8c-49f8-8a85-2fb24ad637fd",
   "metadata": {},
   "source": [
    "*I am interested in data science because, I would love to contribute towards affordable and quality healthcare in future*\n"
   ]
  },
  {
   "cell_type": "markdown",
   "id": "71630fc0-4ee7-4b03-8f86-ebc8cecd82db",
   "metadata": {},
   "source": [
    "<h3> In code snippet below, An operation is being performed. </h3>"
   ]
  },
  {
   "cell_type": "code",
   "execution_count": 9,
   "id": "947bba0a-d192-46ea-87f2-01c79837e737",
   "metadata": {},
   "outputs": [
    {
     "name": "stdout",
     "output_type": "stream",
     "text": [
      "7\n"
     ]
    }
   ],
   "source": [
    "x = 3\n",
    "y = 4\n",
    "print(x + y)"
   ]
  },
  {
   "cell_type": "markdown",
   "id": "f667b907-62f1-42ab-ac18-69a0efb82eb2",
   "metadata": {},
   "source": [
    "| header 1 | header 2| header 3 |\n",
    "| ------ | ------ | ------ |\n",
    "| cell 1 | cell 2| cell 3 |"
   ]
  },
  {
   "cell_type": "markdown",
   "id": "ad4657e5-d967-4b8a-aafa-162ea2e87f97",
   "metadata": {},
   "source": [
    "***hii name is aditya ***<a href=\"https://dataplatform.cloud.ibm.com/gallery\">IBM Cloud Gallery</a> \n"
   ]
  },
  {
   "cell_type": "code",
   "execution_count": null,
   "id": "ebf888a8-2fb2-49ac-8a62-60a2f2b2e0e2",
   "metadata": {},
   "outputs": [],
   "source": [
    "<a href=\"https://www.coursera.org\">IBM Cloud Gallery</a> \n"
   ]
  },
  {
   "cell_type": "code",
   "execution_count": null,
   "id": "28e094d5-2077-4e24-96cf-748cac0949a4",
   "metadata": {},
   "outputs": [],
   "source": []
  }
 ],
 "metadata": {
  "kernelspec": {
   "display_name": "Python",
   "language": "python",
   "name": "conda-env-python-py"
  },
  "language_info": {
   "codemirror_mode": {
    "name": "ipython",
    "version": 3
   },
   "file_extension": ".py",
   "mimetype": "text/x-python",
   "name": "python",
   "nbconvert_exporter": "python",
   "pygments_lexer": "ipython3",
   "version": "3.7.12"
  }
 },
 "nbformat": 4,
 "nbformat_minor": 5
}
